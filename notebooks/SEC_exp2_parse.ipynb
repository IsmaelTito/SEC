{
 "cells": [
  {
   "cell_type": "code",
   "execution_count": 2,
   "metadata": {},
   "outputs": [
    {
     "name": "stdout",
     "output_type": "stream",
     "text": [
      "%pylab is deprecated, use %matplotlib inline and import the required libraries.\n",
      "Populating the interactive namespace from numpy and matplotlib\n"
     ]
    }
   ],
   "source": [
    "import math\n",
    "import ast\n",
    "import statistics\n",
    "import numpy as np\n",
    "import os\n",
    "import csv\n",
    "import json\n",
    "from collections import defaultdict\n",
    "import scipy.stats as stats\n",
    "import matplotlib.pyplot as plt\n",
    "import random as nd\n",
    "import pickle as pkl\n",
    "import matplotlib as mpl\n",
    "mpl.rcParams['figure.dpi'] = 600\n",
    "%pylab inline\n",
    "%load_ext autoreload\n",
    "%autoreload 2"
   ]
  },
  {
   "cell_type": "markdown",
   "metadata": {},
   "source": [
    "# Main data parsing functions"
   ]
  },
  {
   "cell_type": "code",
   "execution_count": 3,
   "metadata": {},
   "outputs": [],
   "source": [
    "def save_plot_data(obj, name, path):\n",
    "    with open(path+name+'.pkl', 'wb') as f:\n",
    "        pkl.dump(obj, f, pkl.HIGHEST_PROTOCOL)\n",
    "\n",
    "def load_plot_data(name, path):\n",
    "    with open(path+name+'.pkl', 'rb') as f:\n",
    "        return pkl.load(f)\n",
    "\n",
    "def load_json_data(inputfile):\n",
    "    summ_data = []\n",
    "    \n",
    "    with open(inputfile) as json_file:\n",
    "        summ_data = json.load(json_file)\n",
    "        print('agent_ID: ' + summ_data['agent_ID'])\n",
    "        #print('agent_type: ' + summ_data['agent_type'])\n",
    "        #print('total_episodes: ' + str(summ_data['total_episodes']))\n",
    "        #print('total_reward: ' + str(summ_data['total_reward']))\n",
    "        #print('avg_rec_err: ' + str(summ_data['avg_rec_err']))\n",
    "        #print('CL_ratio: ' + str(summ_data['CL_ratio']))\n",
    "        #print('STM_length: ' + str(summ_data['STM_length']))\n",
    "        #print('rec_thres: ' + str(summ_data['rec_thres']))\n",
    "        #print('mean_step_rew: ' + str(summ_data['mean_step_rew']))\n",
    "        #print('mean_step_log: ' + data['mean_step_log'])\n",
    "        #print('wins_reactive: ' + str(summ_data['wins_reactive']))\n",
    "        #print('wins_contextual: ' + str(summ_data['wins_contextual']))\n",
    "        #print('auto_reliable: ' + str(summ_data['auto_reliable']))\n",
    "\n",
    "    return summ_data\n",
    "\n",
    "def load_csv_data(inputfile):\n",
    "\n",
    "    # initializing the titles and rows list \n",
    "    fields = [] \n",
    "    data = [] \n",
    "\n",
    "    # reading csv file \n",
    "    with open(inputfile, 'r') as csvfile: \n",
    "        # creating a csv reader object \n",
    "        csvreader = csv.reader(csvfile) \n",
    "\n",
    "        # extracting field names through first row  \n",
    "        fields = next(csvreader) \n",
    "        \n",
    "        # printing the field names \n",
    "        #print('Field names are: ' + ', '.join(field for field in fields)) \n",
    "        \n",
    "        # extracting each data row one by one \n",
    "        for row in csvreader: \n",
    "            if len(row) > 0:\n",
    "                data.append(row) \n",
    "               \n",
    "        #print('Data length: ', len(data))\n",
    "\n",
    "        # get total number of rows \n",
    "        print(\"Total no. of rows: %d\"%(csvreader.line_num)) \n",
    "    \n",
    "    print(\"Data length: \", len(data))  \n",
    "\n",
    "    return data\n",
    "\n",
    "def get_reward_ep(data):\n",
    "    reward_ep = []\n",
    "    for d in data:\n",
    "        reward_ep.append(d[0])\n",
    "    return reward_ep\n",
    "\n",
    "def get_rec_error_mean(data):\n",
    "    rec_error_mean = []\n",
    "    for d in data:\n",
    "        rec_error_mean.append(d[1])\n",
    "    return rec_error_mean\n",
    "\n",
    "def get_reward_logs(data):\n",
    "    reward_logs = []\n",
    "    for d in data:\n",
    "        reward_logs.append(d[2])\n",
    "    return reward_logs\n",
    "\n",
    "def get_rec_error_logs(data):\n",
    "    rec_error_logs = []\n",
    "    for d in data:\n",
    "        rec_error_logs.append(d[3])\n",
    "    return rec_error_logs\n",
    "\n",
    "def get_agent_speed_logs(data):\n",
    "    agent_speed_logs = []\n",
    "    for d in data:\n",
    "        agent_speed_logs.append(d[4])\n",
    "    return agent_speed_logs\n",
    "\n",
    "def get_agent_pos_logs(data):\n",
    "    agent_pos_logs = []\n",
    "    for d in data:\n",
    "        agent_pos_logs.append(d[5])\n",
    "    return agent_pos_logs\n",
    "\n",
    "def get_active_layer_logs(data, model):\n",
    "    active_layer_logs = []\n",
    "    for d in data:\n",
    "        active_layer_logs.append(d[5])\n",
    "    return active_layer_logs\n",
    "\n",
    "def get_entropy_logs(data):\n",
    "    entropy_logs = []\n",
    "    for d in data:\n",
    "        entropy_logs.append(d[6])\n",
    "    return entropy_logs\n",
    "\n",
    "def get_action_sel_logs(data):\n",
    "    action_sel_logs = []\n",
    "    for d in data:\n",
    "        action_sel_logs.append(d[7])\n",
    "    return action_sel_logs\n",
    "\n",
    "def get_reward_ts(reward_ep, ltm_length):\n",
    "    #ltm = int(ltm_length[3:])\n",
    "    ltm = ltm_length\n",
    "\n",
    "    abs_tru_reward_ts = []\n",
    "    abs_rnd_reward_ts = []\n",
    "    acc_tru_reward = 0\n",
    "    acc_tru_reward_ts = []\n",
    "    acc_rnd_reward = 0\n",
    "    acc_rnd_reward_ts = []\n",
    "    count_ltm = 0\n",
    "    index_eps = 0\n",
    "    ltm_complete = 0\n",
    "    \n",
    "    for episode in reward_ep:\n",
    "        #print(episode)\n",
    "        r = float(episode)\n",
    "        \n",
    "        #print(r)\n",
    "        if r > 0:\n",
    "            #print(r)\n",
    "            abs_tru_reward_ts.append(r)\n",
    "            abs_rnd_reward_ts.append(3)\n",
    "            acc_tru_reward += r\n",
    "            acc_rnd_reward += 3\n",
    "            count_ltm += 1\n",
    "        else:\n",
    "            abs_tru_reward_ts.append(0)\n",
    "            abs_rnd_reward_ts.append(0)\n",
    "            acc_tru_reward += 0\n",
    "            acc_rnd_reward += 0\n",
    "            \n",
    "        if count_ltm == ltm: \n",
    "            ltm_complete = index_eps\n",
    "            ltm = -1\n",
    "            \n",
    "        acc_tru_reward_ts.append(acc_tru_reward)\n",
    "        acc_rnd_reward_ts.append(acc_rnd_reward)\n",
    "        index_eps += 1\n",
    "        \n",
    "    return abs_tru_reward_ts, abs_rnd_reward_ts, acc_tru_reward_ts, acc_rnd_reward_ts, ltm_complete\n",
    "\n",
    "\n",
    "def get_steps_ts(reward_ep, steps_data, cl=4):\n",
    "    #default episode total actions: \n",
    "    # CL4 - 251, CL2 - 501, # CL1 - 1001\n",
    "    #print(cl[1])\n",
    "    #default_steps = round(1000 / int(cl[1:]))\n",
    "    default_steps = round(1000 / cl)\n",
    "    steps_index = 0\n",
    "    ep_steps_ts = []\n",
    "    acc_steps = 0\n",
    "    acc_steps_ts = []\n",
    "    steps = steps_data\n",
    "    #steps = json_data['mean_step_log']\n",
    "    #for episode in reward_ep:\n",
    "    for episode in reward_ep:\n",
    "        #print(episode)\n",
    "        r = float(episode)\n",
    "        #print(r)\n",
    "        if r > 0:\n",
    "            ep_steps_ts.append(int(steps[steps_index]))\n",
    "            acc_steps += int(steps[steps_index])\n",
    "            steps_index += 1 \n",
    "        else:\n",
    "            ep_steps_ts.append(default_steps)\n",
    "            acc_steps += default_steps\n",
    "            \n",
    "        acc_steps_ts.append(acc_steps)    \n",
    "                    \n",
    "    return ep_steps_ts, acc_steps_ts\n",
    "\n",
    "def get_condition_data(cl, stm):\n",
    "    data = []\n",
    "    for r,d,f in os.walk(base_path):\n",
    "        for files in f:\n",
    "            if files.startswith('c'+str(cl)+'-stm'+str(stm)) and files.endswith('.csv'):\n",
    "                #ts = []\n",
    "                inputfile = r + files\n",
    "                print(\"r: \", r)\n",
    "                data = load_data(inputfile)\n",
    "    return data\n",
    "\n",
    "\n",
    "def get_layer_reliance_ep(layer_logs):\n",
    "    reactive_reliance = []\n",
    "    contextual_reliance = []\n",
    "    episode_dominance = []\n",
    "    episode_last = []\n",
    "    for ep in layer_logs:\n",
    "        contextual = 0\n",
    "        reactive = 0\n",
    "        for d in ep:\n",
    "            if d == 'C': contextual += 1\n",
    "            if d == 'R': reactive += 1\n",
    "        if contextual >= reactive: episode_dominance.append('C')\n",
    "        else: episode_dominance.append('R')\n",
    "        if (reactive+contextual) > 0:\n",
    "            rel_reactive = reactive / (reactive+contextual)\n",
    "            rel_contextual = contextual / (reactive+contextual)\n",
    "        else:\n",
    "            rel_reactive = 0\n",
    "            rel_contextual = 0\n",
    "        reactive_reliance.append(rel_reactive)\n",
    "        contextual_reliance.append(rel_contextual)\n",
    "        episode_last.append(ep[-3])\n",
    "    return episode_dominance, episode_last, reactive_reliance, contextual_reliance\n",
    "\n",
    "\n",
    "def get_layer_reward_ts_last(reward_ep, steps_data, ep_last):\n",
    "    count_reactive = 0\n",
    "    abs_reward_reactive = []\n",
    "    abs_reward_contextual = []\n",
    "    acc_contextual_reward = 0\n",
    "    acc_reactive_reward = 0\n",
    "    acc_reward_reactive = []\n",
    "    acc_reward_contextual = []\n",
    "    #count_steps = 0\n",
    "    steps_reactive = []\n",
    "    steps_contextual = []\n",
    "    steps = steps_data\n",
    "    #steps = json_data['mean_step_log']\n",
    "    #for episode in reward_ep:\n",
    "    for i in range (len(reward_ep)):\n",
    "        #print(episode)\n",
    "        r = float(reward_ep[i])\n",
    "        #print(r)\n",
    "        if r >= 1.:\n",
    "            #if count_reactive > 4:\n",
    "            if ep_last[i] == 'R':\n",
    "                acc_reactive_reward += r\n",
    "                abs_reward_reactive.append(r)\n",
    "                acc_reward_reactive.append(acc_reactive_reward)\n",
    "                steps_reactive.append(steps[count_reactive])\n",
    "                \n",
    "                abs_reward_contextual.append(0)\n",
    "                acc_reward_contextual.append(acc_contextual_reward)\n",
    "            else:\n",
    "                acc_contextual_reward += r\n",
    "                abs_reward_contextual.append(r)\n",
    "                acc_reward_contextual.append(acc_contextual_reward)\n",
    "                steps_contextual.append(steps[count_reactive])  \n",
    "                \n",
    "                abs_reward_reactive.append(0)\n",
    "                acc_reward_reactive.append(acc_reactive_reward)\n",
    "                    \n",
    "            count_reactive += 1                \n",
    "            #count_steps += 1  \n",
    "        \n",
    "    return abs_reward_reactive, acc_reward_reactive, abs_reward_contextual, acc_reward_contextual, steps_reactive, steps_contextual\n",
    "\n",
    "def get_mean_entropy(data):\n",
    "    mean_entropy_ep = []\n",
    "    for d in data:\n",
    "        #a = np.fromstring(d[1:-1], dtype=float, sep=',')\n",
    "        float_array = ast.literal_eval(d)\n",
    "        mean_entropy = np.mean(float_array)\n",
    "        mean_entropy_ep.append(mean_entropy)\n",
    "    return mean_entropy_ep\n",
    "\n",
    "\n",
    "def get_encoder_reliability_ts(rec_error_logs, rec_thresh=0):\n",
    "    data = rec_error_logs\n",
    "    reconstruct_thres = rec_thresh\n",
    "    encoder_reliability_ts = []\n",
    "\n",
    "    for ep in data:\n",
    "        a = np.fromstring(ep[1:-1], dtype=float, sep=',')\n",
    "        #print(len(a))\n",
    "        count_reliable = 0\n",
    "        count_unreliable = 0\n",
    "        encoder_reliability = 0\n",
    "        for rec_error_ts in a:\n",
    "            if rec_error_ts < reconstruct_thres: \n",
    "                #print ('Reconstruction Error RELIABLE')\n",
    "                count_reliable +=1  \n",
    "            else:\n",
    "                #print ('Reconstruction Error UNRELIABLE') \n",
    "                count_unreliable +=1\n",
    "        encoder_reliability = (count_reliable / (count_reliable+count_unreliable)) * 100\n",
    "        encoder_reliability_ts.append(encoder_reliability)\n",
    "    return encoder_reliability_ts"
   ]
  },
  {
   "cell_type": "code",
   "execution_count": 4,
   "metadata": {},
   "outputs": [],
   "source": [
    "def get_condition_dac(filepath, model, ltm_length=500):\n",
    "    \n",
    "    agent = \"dac\"\n",
    "    indx = 0\n",
    "    jsn_data = 0\n",
    "    agent_ID = \"\"\n",
    "    \n",
    "    rec_threshold=0.01\n",
    "\n",
    "    #big_list = []\n",
    "    big_json = []\n",
    "    big_steps = []\n",
    "    big_autoencoder_trust_rel, big_autoencoder_trust_ts = [], []\n",
    "    big_reward_ep = []\n",
    "    big_abs_tru_reward, big_abs_rnd_reward, big_acc_tru_reward, big_acc_rnd_reward = [], [], [], []\n",
    "    big_layer_data = []\n",
    "    big_ep_dominance, big_ep_last, big_reactive_rel, big_contextual_rel =  [], [], [], []\n",
    "    big_abs_rew_reactive, big_acc_rew_reactive, big_abs_rew_contextual, big_acc_rew_contextual, big_steps_reactive, big_steps_contextual = [], [], [], [], [], []\n",
    "    big_rec_error_logs = []\n",
    "    big_wins_reactive, big_wins_contextual = [], []\n",
    "    #big_autoencoder_trust_ts = []  \n",
    "    big_entropy_data, big_mean_entropy = [], []\n",
    "    big_real_steps, big_acc_steps = [], []\n",
    "    big_ltm_complete = []\n",
    "\n",
    "    print(filepath+'{0}/LTM{1}'.format(model, ltm_length))\n",
    "    for r,d,f in os.walk(filepath+'{0}/LTM{1}'.format(model, ltm_length)):\n",
    "        #print(\"oink! 0\")\n",
    "        for files in f:\n",
    "            if files.endswith('.json'):\n",
    "                filename = r+'/'+files\n",
    "                jsn_data = load_json_data(filename)\n",
    "                agent_ID = jsn_data['agent_ID']\n",
    "                big_json.append(jsn_data)\n",
    "                big_autoencoder_trust_rel.append(jsn_data['auto_reliable'])\n",
    "                mean_steps_log = jsn_data['mean_step_log']\n",
    "                big_steps.append(mean_steps_log)\n",
    "                big_wins_reactive.append(jsn_data['wins_reactive'])\n",
    "                big_wins_contextual.append(jsn_data['wins_contextual'])\n",
    "                #print(\"oink! 1: \", agent_ID)\n",
    "                for r,d,f in os.walk(filepath+'{0}/LTM{1}'.format(model, ltm_length)):\n",
    "                    #print(\"oink! 2a\")\n",
    "                    for files in f:\n",
    "                        if files.startswith(agent_ID) and files.endswith('.csv'):\n",
    "                            #print(\"oink! 2b: \", agent_ID)\n",
    "                            filename = r+'/'+files\n",
    "                            #print(\"oink! 2c: \", filename)\n",
    "                            csv_data = load_csv_data(filename)\n",
    "                            reward_ep = get_reward_ep(csv_data)\n",
    "                            big_reward_ep.append(reward_ep)\n",
    "                            abs_tru_reward, abs_rnd_reward, acc_tru_reward, acc_rnd_reward, ltm_full = get_reward_ts(reward_ep, ltm_length)\n",
    "                            big_abs_tru_reward.append(abs_tru_reward)\n",
    "                            big_abs_rnd_reward.append(abs_rnd_reward)\n",
    "                            big_acc_tru_reward.append(acc_tru_reward)\n",
    "                            big_acc_rnd_reward.append(acc_rnd_reward)\n",
    "                            big_ltm_complete.append(ltm_full)\n",
    "                            layer_data = get_active_layer_logs(csv_data, model)\n",
    "                            big_layer_data.append(layer_data)\n",
    "                            ep_dominance, ep_last, reactive_rel, contextual_rel = get_layer_reliance_ep(layer_data)\n",
    "                            big_ep_dominance.append(ep_dominance)\n",
    "                            big_ep_last.append(ep_last)\n",
    "                            big_reactive_rel.append(reactive_rel)\n",
    "                            big_contextual_rel.append(contextual_rel)\n",
    "                            abs_rew_reactive, acc_rew_reactive, abs_rew_contextual, acc_rew_contextual, steps_reactive, steps_contextual = get_layer_reward_ts_last(reward_ep, mean_steps_log, ep_dominance)\n",
    "                            big_abs_rew_reactive.append(abs_rew_reactive)\n",
    "                            big_acc_rew_reactive.append(acc_rew_reactive)\n",
    "                            big_abs_rew_contextual.append(abs_rew_contextual)\n",
    "                            big_acc_rew_contextual.append(acc_rew_contextual)\n",
    "                            big_steps_reactive.append(steps_reactive)\n",
    "                            big_steps_contextual.append(steps_contextual)\n",
    "                            real_steps_ts, acc_steps_ts = get_steps_ts(reward_ep, mean_steps_log)\n",
    "                            big_real_steps.append(real_steps_ts)\n",
    "                            big_acc_steps.append(acc_steps_ts)\n",
    "                            if model != \"reactive\": \n",
    "                                rec_error_logs = get_rec_error_logs(csv_data)\n",
    "                                big_rec_error_logs.append(rec_error_logs)\n",
    "                                autoencoder_trust_ts = get_encoder_reliability_ts(rec_error_logs, rec_threshold)\n",
    "                                #big_autoencoder_trust_ts.apppend(autoencoder_trust_ts)\n",
    "                                entropy_data = get_entropy_logs(csv_data)\n",
    "                                mean_entropy = get_mean_entropy(entropy_data)\n",
    "                                big_entropy_data.append(entropy_data)\n",
    "                                big_mean_entropy.append(mean_entropy)\n",
    "                            indx += 1\n",
    "                      \n",
    "    big_list = {}\n",
    "\n",
    "    #big_list['agent_ID'] = ID\n",
    "    big_list['abs_tru_reward'] = big_abs_tru_reward\n",
    "    big_list['acc_tru_reward'] = big_acc_tru_reward  #this\n",
    "    big_list['reward_steps_ts'] = big_steps\n",
    "    big_list['real_steps_ts'] = big_real_steps  #this\n",
    "    big_list['acc_steps_ts'] = big_acc_steps  #this\n",
    "    big_list['mean_entropy'] = big_mean_entropy #this\n",
    "    big_list['LTM_full'] = big_ltm_complete\n",
    "\n",
    "    #big_list['autoencoder_trust_ts'] = big_autoencoder_trust_ts\n",
    "    big_list['reactive_relact'] = big_reactive_rel    \n",
    "    big_list['contextual_relact'] = big_contextual_rel  #this\n",
    "    big_list['reactive_wins'] = big_wins_reactive    \n",
    "    big_list['contextual_wins'] = big_wins_contextual  \n",
    "    \n",
    "    big_list['abs_rew_reactive'] = big_abs_rew_reactive\n",
    "    big_list['abs_rew_contextual'] = big_abs_rew_contextual\n",
    "    big_list['acc_rew_reactive'] = big_acc_rew_reactive\n",
    "    big_list['acc_rew_contextual'] = big_acc_rew_contextual      \n",
    " \n",
    "    big_list['steps_reactive'] = big_steps_reactive\n",
    "    big_list['steps_contextual'] = big_steps_contextual    \n",
    "                \n",
    "    return big_list"
   ]
  },
  {
   "cell_type": "markdown",
   "metadata": {},
   "source": [
    "# Parse single condition"
   ]
  },
  {
   "cell_type": "code",
   "execution_count": 13,
   "metadata": {},
   "outputs": [],
   "source": [
    "file_path = 'E:/SEC_paper_data/exp2/'\n",
    "#file_path = '../data/exp2_memory_constraints/'\n",
    "plot_path = '../results/'"
   ]
  },
  {
   "cell_type": "code",
   "execution_count": 24,
   "metadata": {},
   "outputs": [
    {
     "name": "stdout",
     "output_type": "stream",
     "text": [
      "../data/exp2/MFEC/LTM5555\n",
      "agent_ID: cl4-kn50-ltm5555_agent-0fnq41_\n",
      "Total no. of rows: 10002\n",
      "Data length:  5000\n",
      "agent_ID: cl4-kn50-ltm5555_agent-0sx681_\n",
      "Total no. of rows: 10002\n",
      "Data length:  5000\n",
      "agent_ID: cl4-kn50-ltm5555_agent-3ix2dg_\n",
      "Total no. of rows: 10002\n",
      "Data length:  5000\n",
      "agent_ID: cl4-kn50-ltm5555_agent-59srld_\n",
      "Total no. of rows: 10002\n",
      "Data length:  5000\n",
      "agent_ID: cl4-kn50-ltm5555_agent-6rtf2m_\n",
      "Total no. of rows: 10002\n",
      "Data length:  5000\n",
      "agent_ID: cl4-kn50-ltm5555_agent-7thzkp_\n",
      "Total no. of rows: 10002\n",
      "Data length:  5000\n",
      "agent_ID: cl4-kn50-ltm5555_agent-atoilm_\n",
      "Total no. of rows: 10002\n",
      "Data length:  5000\n",
      "agent_ID: cl4-kn50-ltm5555_agent-jjfbbu_\n",
      "Total no. of rows: 10002\n",
      "Data length:  5000\n",
      "agent_ID: cl4-kn50-ltm5555_agent-ohtc9b_\n",
      "Total no. of rows: 10002\n",
      "Data length:  5000\n",
      "agent_ID: cl4-kn50-ltm5555_agent-tijw9l_\n",
      "Total no. of rows: 10002\n",
      "Data length:  5000\n"
     ]
    }
   ],
   "source": [
    "model = 'MFEC'\n",
    "memory = 5555\n",
    "data = get_condition_dac(file_path, model, memory)"
   ]
  },
  {
   "cell_type": "code",
   "execution_count": 25,
   "metadata": {},
   "outputs": [
    {
     "data": {
      "text/plain": [
       "3868.861094533233"
      ]
     },
     "execution_count": 25,
     "metadata": {},
     "output_type": "execute_result"
    }
   ],
   "source": [
    "len(data['abs_tru_reward'][0])\n",
    "np.sum(data['abs_tru_reward'][2])"
   ]
  },
  {
   "cell_type": "code",
   "execution_count": 26,
   "metadata": {},
   "outputs": [
    {
     "data": {
      "text/plain": [
       "17"
      ]
     },
     "execution_count": 26,
     "metadata": {},
     "output_type": "execute_result"
    }
   ],
   "source": [
    "len(data)"
   ]
  },
  {
   "cell_type": "code",
   "execution_count": 27,
   "metadata": {},
   "outputs": [
    {
     "data": {
      "text/plain": [
       "-818.9779476868925"
      ]
     },
     "execution_count": 27,
     "metadata": {},
     "output_type": "execute_result"
    }
   ],
   "source": [
    "data['mean_entropy'][0][-1]"
   ]
  },
  {
   "cell_type": "code",
   "execution_count": 28,
   "metadata": {},
   "outputs": [
    {
     "name": "stdout",
     "output_type": "stream",
     "text": [
      "-818.9779476868925\n",
      "-819.4754969015672\n",
      "-919.7079778136092\n",
      "-818.2986778967118\n",
      "-903.2492865418308\n",
      "-820.4226729824114\n",
      "-817.5916137113619\n",
      "-822.3151888060174\n",
      "-892.9165676819819\n",
      "-819.9940656459077\n"
     ]
    }
   ],
   "source": [
    "for i in range (len(data['mean_entropy'])):\n",
    "    print(data['mean_entropy'][i][-1])"
   ]
  },
  {
   "cell_type": "code",
   "execution_count": 29,
   "metadata": {},
   "outputs": [],
   "source": [
    "save_plot_data(data, model+str(memory), file_path)"
   ]
  },
  {
   "cell_type": "code",
   "execution_count": 30,
   "metadata": {},
   "outputs": [
    {
     "data": {
      "text/plain": [
       "dict_keys(['abs_tru_reward', 'acc_tru_reward', 'reward_steps_ts', 'real_steps_ts', 'acc_steps_ts', 'mean_entropy', 'LTM_full', 'reactive_relact', 'contextual_relact', 'reactive_wins', 'contextual_wins', 'abs_rew_reactive', 'abs_rew_contextual', 'acc_rew_reactive', 'acc_rew_contextual', 'steps_reactive', 'steps_contextual'])"
      ]
     },
     "execution_count": 30,
     "metadata": {},
     "output_type": "execute_result"
    }
   ],
   "source": [
    "data.keys()"
   ]
  },
  {
   "cell_type": "markdown",
   "metadata": {},
   "source": [
    "# Parse all conditions"
   ]
  },
  {
   "cell_type": "code",
   "execution_count": 14,
   "metadata": {},
   "outputs": [],
   "source": [
    "models = ['SEC', 'NSEC']\n",
    "ltms = ['125','250','500','1000']"
   ]
  },
  {
   "cell_type": "code",
   "execution_count": 15,
   "metadata": {},
   "outputs": [],
   "source": [
    "data = {}"
   ]
  },
  {
   "cell_type": "code",
   "execution_count": 16,
   "metadata": {},
   "outputs": [
    {
     "name": "stdout",
     "output_type": "stream",
     "text": [
      "E:/SEC_paper_data/exp2/SEC/LTM125\n",
      "E:/SEC_paper_data/exp2/SEC/LTM250\n",
      "E:/SEC_paper_data/exp2/SEC/LTM500\n",
      "E:/SEC_paper_data/exp2/SEC/LTM1000\n",
      "E:/SEC_paper_data/exp2/NSEC/LTM125\n",
      "E:/SEC_paper_data/exp2/NSEC/LTM250\n",
      "E:/SEC_paper_data/exp2/NSEC/LTM500\n",
      "E:/SEC_paper_data/exp2/NSEC/LTM1000\n"
     ]
    }
   ],
   "source": [
    "for model in models:\n",
    "    for ltm in ltms:\n",
    "        data[model+'_ltm'+ltm] = get_condition_dac(file_path, model, ltm)"
   ]
  },
  {
   "cell_type": "code",
   "execution_count": 50,
   "metadata": {},
   "outputs": [
    {
     "data": {
      "text/plain": [
       "3"
      ]
     },
     "execution_count": 50,
     "metadata": {},
     "output_type": "execute_result"
    }
   ],
   "source": [
    "len(data)"
   ]
  },
  {
   "cell_type": "markdown",
   "metadata": {},
   "source": [
    "# Save parsed data for future use"
   ]
  },
  {
   "cell_type": "code",
   "execution_count": 31,
   "metadata": {},
   "outputs": [],
   "source": [
    "#data = load_plot_data('data', file_path)"
   ]
  },
  {
   "cell_type": "code",
   "execution_count": 6,
   "metadata": {},
   "outputs": [],
   "source": [
    "#models = ['MFEC1388', 'MFEC2777', 'MFEC5555']\n",
    "models = ['SEC_ltm125', 'NSEC_ltm125', 'SEC_ltm250', 'NSEC_ltm250', 'SEC_ltm500', 'NSEC_ltm500', 'SEC_ltm1000', 'NSEC_ltm1000', 'SEC_ltm2000', 'NSEC_ltm2000']\n",
    "\n",
    "data = {}\n",
    "\n",
    "for model in models:\n",
    "    model_data = load_plot_data(model, file_path)\n",
    "    data[model] = model_data\n",
    "    "
   ]
  },
  {
   "cell_type": "code",
   "execution_count": 7,
   "metadata": {},
   "outputs": [
    {
     "data": {
      "text/plain": [
       "dict_keys(['SEC_ltm125', 'NSEC_ltm125', 'SEC_ltm250', 'NSEC_ltm250', 'SEC_ltm500', 'NSEC_ltm500', 'SEC_ltm1000', 'NSEC_ltm1000', 'SEC_ltm2000', 'NSEC_ltm2000'])"
      ]
     },
     "execution_count": 7,
     "metadata": {},
     "output_type": "execute_result"
    }
   ],
   "source": [
    "data.keys()"
   ]
  },
  {
   "cell_type": "code",
   "execution_count": 8,
   "metadata": {},
   "outputs": [
    {
     "data": {
      "text/plain": [
       "dict_keys(['mean_entropy'])"
      ]
     },
     "execution_count": 8,
     "metadata": {},
     "output_type": "execute_result"
    }
   ],
   "source": [
    "data['SEC_ltm125'].keys()"
   ]
  },
  {
   "cell_type": "code",
   "execution_count": 34,
   "metadata": {},
   "outputs": [],
   "source": [
    "save_plot_data(data, 'data_new', file_path)"
   ]
  },
  {
   "cell_type": "code",
   "execution_count": 24,
   "metadata": {},
   "outputs": [],
   "source": [
    "#file_path = 'E:/SEC_paper_data/exp1/'\n",
    "file_path = '../data/exp2/'\n",
    "plot_path = '../results/'"
   ]
  },
  {
   "cell_type": "code",
   "execution_count": 25,
   "metadata": {},
   "outputs": [],
   "source": [
    "data = load_plot_data('data',file_path)"
   ]
  },
  {
   "cell_type": "markdown",
   "metadata": {},
   "source": [
    "# Rewards - single"
   ]
  },
  {
   "cell_type": "code",
   "execution_count": 32,
   "metadata": {},
   "outputs": [],
   "source": [
    "# Variables a computar para reward plot\n",
    "window_width = 20\n",
    "data_trureward = data['SEC_ltm500']['abs_tru_reward']\n",
    "data_trureward = np.asarray(data_trureward, dtype=np.float32)\n",
    "\n",
    "mean = np.mean(data_trureward, axis=0)\n",
    "yerr = np.std(data_trureward, axis=0) / math.sqrt(len(data_trureward))\n",
    "\n",
    "data_trureward_cumsum = np.cumsum(np.insert(mean, 0, 0)) \n",
    "data_trureward_mavecr = (data_trureward_cumsum[window_width:] - data_trureward_cumsum[:-window_width]) / window_width\n",
    "\n",
    "data_trureward_cumsum_std = np.cumsum(np.insert(yerr, 0, 0)) \n",
    "data_trureward_mavecr_std = (data_trureward_cumsum_std[window_width:] - data_trureward_cumsum_std[:-window_width]) / window_width\n",
    "\n",
    "min_val = data_trureward_mavecr - data_trureward_mavecr_std\n",
    "max_val = data_trureward_mavecr + data_trureward_mavecr_std\n",
    "length = data_trureward_mavecr_std.shape[0]\n"
   ]
  },
  {
   "cell_type": "code",
   "execution_count": 33,
   "metadata": {},
   "outputs": [
    {
     "data": {
      "text/plain": [
       "<matplotlib.collections.PolyCollection at 0x2c6c68ab788>"
      ]
     },
     "execution_count": 33,
     "metadata": {},
     "output_type": "execute_result"
    },
    {
     "data": {
      "image/png": "[encoded data removed]",
      "text/plain": [
       "<Figure size 432x288 with 1 Axes>"
      ]
     },
     "metadata": {
      "needs_background": "light"
     },
     "output_type": "display_data"
    }
   ],
   "source": [
    "# Variables a guardar para reward plot\n",
    "plt.plot(data_trureward_mavecr, label=\"DAC-ML\", color='blue')\n",
    "\n",
    "plt.fill_between(np.linspace(0, length-1, length), min_val, max_val, color='blue', alpha=.2)"
   ]
  },
  {
   "cell_type": "markdown",
   "metadata": {},
   "source": [
    "# Rewards - all"
   ]
  },
  {
   "cell_type": "code",
   "execution_count": 35,
   "metadata": {},
   "outputs": [
    {
     "ename": "NameError",
     "evalue": "name 'ltms' is not defined",
     "output_type": "error",
     "traceback": [
      "\u001b[1;31m---------------------------------------------------------------------------\u001b[0m",
      "\u001b[1;31mNameError\u001b[0m                                 Traceback (most recent call last)",
      "Input \u001b[1;32mIn [35]\u001b[0m, in \u001b[0;36m<cell line: 5>\u001b[1;34m()\u001b[0m\n\u001b[0;32m      3\u001b[0m window_width \u001b[38;5;241m=\u001b[39m \u001b[38;5;241m20\u001b[39m\n\u001b[0;32m      5\u001b[0m \u001b[38;5;28;01mfor\u001b[39;00m model \u001b[38;5;129;01min\u001b[39;00m models:\n\u001b[1;32m----> 6\u001b[0m     \u001b[38;5;28;01mfor\u001b[39;00m ltm \u001b[38;5;129;01min\u001b[39;00m \u001b[43mltms\u001b[49m: \n\u001b[0;32m      8\u001b[0m         data_trureward \u001b[38;5;241m=\u001b[39m data[model\u001b[38;5;241m+\u001b[39m\u001b[38;5;124m'\u001b[39m\u001b[38;5;124m_ltm\u001b[39m\u001b[38;5;124m'\u001b[39m\u001b[38;5;241m+\u001b[39mltm][\u001b[38;5;124m'\u001b[39m\u001b[38;5;124mabs_tru_reward\u001b[39m\u001b[38;5;124m'\u001b[39m]\n\u001b[0;32m      9\u001b[0m         data_trureward \u001b[38;5;241m=\u001b[39m np\u001b[38;5;241m.\u001b[39masarray(data_trureward, dtype\u001b[38;5;241m=\u001b[39mnp\u001b[38;5;241m.\u001b[39mfloat32)\n",
      "\u001b[1;31mNameError\u001b[0m: name 'ltms' is not defined"
     ]
    }
   ],
   "source": [
    "reward_data = {}\n",
    "ltm_data = {}\n",
    "window_width = 20\n",
    "\n",
    "for model in models:\n",
    "    for ltm in ltms: \n",
    "\n",
    "        data_trureward = data[model+'_ltm'+ltm]['abs_tru_reward']\n",
    "        data_trureward = np.asarray(data_trureward, dtype=np.float32)\n",
    "        print(\"data_truerward_sum \", np.sum(data_trureward))\n",
    "\n",
    "        data_ltm = data[model+'_ltm'+ltm]['LTM_full']\n",
    "        data_ltm = np.asarray(data_ltm, dtype=np.float32)\n",
    "        data_ltm[data_ltm == 0] = ltm #correction: LTMs that were not filled completeley should get max value\n",
    "\n",
    "        if np.sum(data_trureward) > 0:\n",
    "            if len(data_trureward[0]) > 5000: \n",
    "                data_half = np.hsplit(data_trureward, 2)\n",
    "                data_trureward = data_half[0]\n",
    "\n",
    "            mean = np.mean(data_trureward, axis=0)\n",
    "            yerr = np.std(data_trureward, axis=0) / math.sqrt(len(data_trureward))\n",
    "\n",
    "            data_trureward_cumsum = np.cumsum(np.insert(mean, 0, 0)) \n",
    "            data_trureward_mavecr = (data_trureward_cumsum[window_width:] - data_trureward_cumsum[:-window_width]) / window_width\n",
    "\n",
    "            data_trureward_cumsum_std = np.cumsum(np.insert(yerr, 0, 0)) \n",
    "            data_trureward_mavecr_std = (data_trureward_cumsum_std[window_width:] - data_trureward_cumsum_std[:-window_width]) / window_width\n",
    "\n",
    "            data_totalreward = np.sum(data_trureward, axis=1) \n",
    "            #data_totalreward_mean = np.mean(data_totalreward)\n",
    "            #data_totalreward_std = np.std(data_totalreward)\n",
    "\n",
    "            reward = {}\n",
    "            reward['total'] = data_totalreward\n",
    "            reward['mean'] = np.mean(mean)\n",
    "            reward['mavecr'] = data_trureward_mavecr\n",
    "            reward['mavecr_std'] = data_trureward_mavecr_std\n",
    "            reward['min_val'] = data_trureward_mavecr - data_trureward_mavecr_std\n",
    "            reward['max_val'] = data_trureward_mavecr + data_trureward_mavecr_std\n",
    "            reward['length'] = data_trureward_mavecr_std.shape[0]\n",
    "\n",
    "            reward_data[model+'_ltm'+ltm] = reward\n",
    "\n",
    "            lmean = np.mean(data_ltm)\n",
    "            lerr = np.std(data_ltm) / math.sqrt(len(data_ltm))\n",
    "\n",
    "            ltm_full = {}\n",
    "            ltm_full['total'] = data_ltm\n",
    "            ltm_full['mean'] = lmean\n",
    "            ltm_full['error'] = lerr\n",
    "            ltm_full['min_val'] = lmean - lerr\n",
    "            ltm_full['max_val'] = lmean + lerr\n",
    "\n",
    "            ltm_data[model+'_ltm'+ltm] = ltm_full'''\n",
    "\n",
    "save_plot_data(reward_data, 'reward_new', file_path)\n",
    "#save_plot_data(ltm_data, 'ltm_data', file_path)"
   ]
  },
  {
   "cell_type": "code",
   "execution_count": 9,
   "metadata": {},
   "outputs": [],
   "source": [
    "models = ['MFEC1388', 'MFEC2777', 'MFEC5555']"
   ]
  },
  {
   "cell_type": "code",
   "execution_count": 12,
   "metadata": {},
   "outputs": [
    {
     "data": {
      "text/plain": [
       "dict_keys(['abs_tru_reward', 'acc_tru_reward', 'reward_steps_ts', 'real_steps_ts', 'acc_steps_ts', 'mean_entropy', 'LTM_full', 'reactive_relact', 'contextual_relact', 'reactive_wins', 'contextual_wins', 'abs_rew_reactive', 'abs_rew_contextual', 'acc_rew_reactive', 'acc_rew_contextual', 'steps_reactive', 'steps_contextual'])"
      ]
     },
     "execution_count": 12,
     "metadata": {},
     "output_type": "execute_result"
    }
   ],
   "source": [
    "data['MFEC1388'].keys()"
   ]
  },
  {
   "cell_type": "code",
   "execution_count": 14,
   "metadata": {},
   "outputs": [
    {
     "name": "stdout",
     "output_type": "stream",
     "text": [
      "data_truerward_sum  4337.6997\n",
      "data_truerward_sum  9201.426\n",
      "data_truerward_sum  28506.424\n"
     ]
    }
   ],
   "source": [
    "reward_data = {}\n",
    "ltm_data = {}\n",
    "window_width = 20\n",
    "\n",
    "for model in models:\n",
    "\n",
    "        if model == 'MFEC1388': ltm = 1388\n",
    "        if model == 'MFEC2777': ltm = 2777\n",
    "        if model == 'MFEC5555': ltm = 5555\n",
    "            \n",
    "        data_trureward = data[model]['abs_tru_reward']\n",
    "        data_trureward = np.asarray(data_trureward, dtype=np.float32)\n",
    "        print(\"data_truerward_sum \", np.sum(data_trureward))\n",
    "\n",
    "        data_ltm = data[model]['LTM_full']\n",
    "        data_ltm = np.asarray(data_ltm, dtype=np.float32)\n",
    "        data_ltm[data_ltm == 0] = ltm #correction: LTMs that were not filled completeley should get max value\n",
    "\n",
    "        if np.sum(data_trureward) > 0:\n",
    "            if len(data_trureward[0]) > 5000: \n",
    "                data_half = np.hsplit(data_trureward, 2)\n",
    "                data_trureward = data_half[0]\n",
    "\n",
    "            mean = np.mean(data_trureward, axis=0)\n",
    "            yerr = np.std(data_trureward, axis=0) / math.sqrt(len(data_trureward))\n",
    "\n",
    "            data_trureward_cumsum = np.cumsum(np.insert(mean, 0, 0)) \n",
    "            data_trureward_mavecr = (data_trureward_cumsum[window_width:] - data_trureward_cumsum[:-window_width]) / window_width\n",
    "\n",
    "            data_trureward_cumsum_std = np.cumsum(np.insert(yerr, 0, 0)) \n",
    "            data_trureward_mavecr_std = (data_trureward_cumsum_std[window_width:] - data_trureward_cumsum_std[:-window_width]) / window_width\n",
    "\n",
    "            data_totalreward = np.sum(data_trureward, axis=1) \n",
    "            #data_totalreward_mean = np.mean(data_totalreward)\n",
    "            #data_totalreward_std = np.std(data_totalreward)\n",
    "\n",
    "            reward = {}\n",
    "            reward['total'] = data_totalreward\n",
    "            reward['mean'] = np.mean(mean)\n",
    "            reward['mavecr'] = data_trureward_mavecr\n",
    "            reward['mavecr_std'] = data_trureward_mavecr_std\n",
    "            reward['min_val'] = data_trureward_mavecr - data_trureward_mavecr_std\n",
    "            reward['max_val'] = data_trureward_mavecr + data_trureward_mavecr_std\n",
    "            reward['length'] = data_trureward_mavecr_std.shape[0]\n",
    "\n",
    "            reward_data[model] = reward\n",
    "\n",
    "            lmean = np.mean(data_ltm)\n",
    "            lerr = np.std(data_ltm) / math.sqrt(len(data_ltm))\n",
    "\n",
    "            '''ltm_full = {}\n",
    "            ltm_full['total'] = data_ltm\n",
    "            ltm_full['mean'] = lmean\n",
    "            ltm_full['error'] = lerr\n",
    "            ltm_full['min_val'] = lmean - lerr\n",
    "            ltm_full['max_val'] = lmean + lerr\n",
    "\n",
    "            ltm_data[model+'_ltm'+ltm] = ltm_full'''\n",
    "\n",
    "save_plot_data(reward_data, 'reward_new', file_path)\n",
    "#save_plot_data(ltm_data, 'ltm_data', file_path)"
   ]
  },
  {
   "cell_type": "code",
   "execution_count": 55,
   "metadata": {},
   "outputs": [
    {
     "data": {
      "text/plain": [
       "<matplotlib.collections.PolyCollection at 0x2c6b044aec8>"
      ]
     },
     "execution_count": 55,
     "metadata": {},
     "output_type": "execute_result"
    },
    {
     "data": {
      "image/png": "[encoded data removed]",
      "text/plain": [
       "<Figure size 432x288 with 1 Axes>"
      ]
     },
     "metadata": {
      "needs_background": "light"
     },
     "output_type": "display_data"
    }
   ],
   "source": [
    "# Variables a guardar para reward plot\n",
    "d = reward_data['SEC_ltm500']\n",
    "l = ltm_data['SEC_ltm500']\n",
    "\n",
    "plt.axvline(x=l['mean'])\n",
    "plt.axvspan(l['min_val'], l['max_val'], facecolor='g', alpha=0.25)\n",
    "\n",
    "plt.plot(d['mavecr'], label=\"Reactive\", color='blue')\n",
    "plt.fill_between(np.linspace(0, d['length']-1, d['length']), d['min_val'], d['max_val'], color='blue', alpha=.2)"
   ]
  },
  {
   "cell_type": "markdown",
   "metadata": {},
   "source": [
    "# Steps - single"
   ]
  },
  {
   "cell_type": "code",
   "execution_count": 56,
   "metadata": {},
   "outputs": [],
   "source": [
    "# Variables a computar para reward plot\n",
    "window_width = 20\n",
    "data_steps = data['SEC_ltm500']['real_steps_ts']\n",
    "data_steps = np.asarray(data_steps, dtype=np.float32)\n",
    "\n",
    "mean = np.mean(data_steps, axis=0)\n",
    "yerr = np.std(data_steps, axis=0) / math.sqrt(len(data_steps))\n",
    "\n",
    "data_steps_cumsum = np.cumsum(np.insert(mean, 0, 0)) \n",
    "data_steps_mavecr = (data_steps_cumsum[window_width:] - data_steps_cumsum[:-window_width]) / window_width\n",
    "\n",
    "data_steps_cumsum_std = np.cumsum(np.insert(yerr, 0, 0)) \n",
    "data_steps_mavecr_std = (data_steps_cumsum_std[window_width:] - data_steps_cumsum_std[:-window_width]) / window_width\n",
    "\n",
    "min_val = data_steps_mavecr - data_steps_mavecr_std\n",
    "max_val = data_steps_mavecr + data_steps_mavecr_std\n",
    "length = data_steps_mavecr_std.shape[0]"
   ]
  },
  {
   "cell_type": "code",
   "execution_count": 57,
   "metadata": {},
   "outputs": [
    {
     "data": {
      "text/plain": [
       "<matplotlib.collections.PolyCollection at 0x2c6e32b9b88>"
      ]
     },
     "execution_count": 57,
     "metadata": {},
     "output_type": "execute_result"
    },
    {
     "data": {
      "image/png": "[encoded data removed]",
      "text/plain": [
       "<Figure size 432x288 with 1 Axes>"
      ]
     },
     "metadata": {
      "needs_background": "light"
     },
     "output_type": "display_data"
    }
   ],
   "source": [
    "# Variables a guardar para reward plot\n",
    "plt.plot(data_steps_mavecr, label=\"Reactive\", color='blue')\n",
    "plt.fill_between(np.linspace(0, length-1, length), min_val, max_val, color='blue', alpha=.2)"
   ]
  },
  {
   "cell_type": "markdown",
   "metadata": {},
   "source": [
    "# Steps - all"
   ]
  },
  {
   "cell_type": "code",
   "execution_count": 58,
   "metadata": {},
   "outputs": [
    {
     "name": "stdout",
     "output_type": "stream",
     "text": [
      "data_trusteps_sum  1916036.0\n",
      "data_trusteps_sum  1236992.0\n",
      "data_trusteps_sum  2538241.0\n",
      "data_trusteps_sum  2542335.0\n",
      "data_trusteps_sum  3231341.0\n",
      "data_trusteps_sum  3242323.0\n",
      "data_trusteps_sum  2141170.0\n",
      "data_trusteps_sum  2128660.0\n"
     ]
    }
   ],
   "source": [
    "steps_data = {}\n",
    "window_width = 20\n",
    "\n",
    "for model in models:\n",
    "    for ltm in ltms:\n",
    "        #steps_data[\"cl\"+str(clr)+\"_stm\"+str(stm)+\"_ep1000_dac\"] = get_condition_dac(\"C\"+str(clr), \"STM\"+str(stm), \"EP1000\", \"dac\")\n",
    "\n",
    "        #data_trusteps = cl4_stm50_ep1000_dac['abs_tru_steps']\n",
    "        data_trusteps = data[model+'_ltm'+ltm]['real_steps_ts']\n",
    "        data_trusteps = np.asarray(data_trusteps, dtype=np.float32)\n",
    "        print(\"data_trusteps_sum \", np.sum(data_trusteps))\n",
    "        if np.sum(data_trusteps) > 0:\n",
    "            if len(data_trusteps[0]) > 5000: \n",
    "                data_half = np.hsplit(data_trusteps, 2)\n",
    "                data_trusteps = data_half[0]\n",
    "\n",
    "            mean = np.mean(data_trusteps, axis=0)\n",
    "            yerr = np.std(data_trusteps, axis=0) / math.sqrt(len(data_trusteps))\n",
    "\n",
    "            data_trusteps_cumsum = np.cumsum(np.insert(mean, 0, 0)) \n",
    "            data_trusteps_mavecr = (data_trusteps_cumsum[window_width:] - data_trusteps_cumsum[:-window_width]) / window_width\n",
    "\n",
    "            data_trusteps_cumsum_std = np.cumsum(np.insert(yerr, 0, 0)) \n",
    "            data_trusteps_mavecr_std = (data_trusteps_cumsum_std[window_width:] - data_trusteps_cumsum_std[:-window_width]) / window_width\n",
    "\n",
    "            steps = {}\n",
    "            steps['mavecr'] = data_trusteps_mavecr\n",
    "            steps['mavecr_std'] = data_trusteps_mavecr_std\n",
    "            steps['min_val'] = data_trusteps_mavecr - data_trusteps_mavecr_std\n",
    "            steps['max_val'] = data_trusteps_mavecr + data_trusteps_mavecr_std\n",
    "            steps['length'] = data_trusteps_mavecr_std.shape[0]\n",
    "\n",
    "            steps_data[model+'_ltm'+ltm] = steps\n",
    "\n",
    "save_plot_data(steps_data, 'steps', file_path)"
   ]
  },
  {
   "cell_type": "code",
   "execution_count": 59,
   "metadata": {},
   "outputs": [
    {
     "data": {
      "text/plain": [
       "<matplotlib.collections.PolyCollection at 0x2c6b247f448>"
      ]
     },
     "execution_count": 59,
     "metadata": {},
     "output_type": "execute_result"
    },
    {
     "data": {
      "image/png": "[encoded data removed]",
      "text/plain": [
       "<Figure size 432x288 with 1 Axes>"
      ]
     },
     "metadata": {
      "needs_background": "light"
     },
     "output_type": "display_data"
    }
   ],
   "source": [
    "# Variables a guardar para reward plot\n",
    "d = steps_data['SEC_ltm500']\n",
    "\n",
    "plt.plot(d['mavecr'], label=\"Reactive\", color='blue')\n",
    "plt.fill_between(np.linspace(0, d['length']-1, d['length']), d['min_val'], d['max_val'], color='blue', alpha=.2)"
   ]
  },
  {
   "cell_type": "markdown",
   "metadata": {},
   "source": [
    "# Steps normalized - all"
   ]
  },
  {
   "cell_type": "code",
   "execution_count": 60,
   "metadata": {},
   "outputs": [
    {
     "name": "stdout",
     "output_type": "stream",
     "text": [
      "data_trusteps_sum  7664144.0\n",
      "data_trusteps_sum  4947968.0\n",
      "data_trusteps_sum  10152964.0\n",
      "data_trusteps_sum  10169340.0\n",
      "data_trusteps_sum  12925364.0\n",
      "data_trusteps_sum  12969292.0\n",
      "data_trusteps_sum  8564680.0\n",
      "data_trusteps_sum  8514640.0\n"
     ]
    }
   ],
   "source": [
    "stepsnorm_data = {}\n",
    "window_width = 20\n",
    "clr = 4\n",
    "\n",
    "for model in models:\n",
    "    for ltm in ltms:\n",
    "        data_trusteps = data[model+'_ltm'+ltm]['real_steps_ts']\n",
    "        data_trusteps = np.asarray(data_trusteps, dtype=np.float32)\n",
    "        data_trusteps = data_trusteps * clr   \n",
    "        print(\"data_trusteps_sum \", np.sum(data_trusteps))\n",
    "        if np.sum(data_trusteps) > 0:   \n",
    "            if len(data_trusteps[0]) > 5000: \n",
    "                data_half = np.hsplit(data_trusteps, 2)\n",
    "                data_trusteps = data_half[0]\n",
    "\n",
    "            mean = np.mean(data_trusteps, axis=0)\n",
    "            yerr = np.std(data_trusteps, axis=0) / math.sqrt(len(data_trusteps))\n",
    "\n",
    "            data_trusteps_cumsum = np.cumsum(np.insert(mean, 0, 0)) \n",
    "            data_trusteps_mavecr = (data_trusteps_cumsum[window_width:] - data_trusteps_cumsum[:-window_width]) / window_width\n",
    "\n",
    "            data_trusteps_cumsum_std = np.cumsum(np.insert(yerr, 0, 0)) \n",
    "            data_trusteps_mavecr_std = (data_trusteps_cumsum_std[window_width:] - data_trusteps_cumsum_std[:-window_width]) / window_width\n",
    "\n",
    "            steps = {}\n",
    "            steps['mavecr'] = data_trusteps_mavecr\n",
    "            steps['mavecr_std'] = data_trusteps_mavecr_std\n",
    "            steps['min_val'] = data_trusteps_mavecr - data_trusteps_mavecr_std\n",
    "            steps['max_val'] = data_trusteps_mavecr + data_trusteps_mavecr_std\n",
    "            steps['length'] = data_trusteps_mavecr_std.shape[0]\n",
    "\n",
    "            stepsnorm_data[model+'_ltm'+ltm] = steps\n",
    "\n",
    "save_plot_data(stepsnorm_data, 'stepsnorm', file_path)"
   ]
  },
  {
   "cell_type": "code",
   "execution_count": 61,
   "metadata": {},
   "outputs": [
    {
     "data": {
      "text/plain": [
       "<matplotlib.collections.PolyCollection at 0x2c6af424c08>"
      ]
     },
     "execution_count": 61,
     "metadata": {},
     "output_type": "execute_result"
    },
    {
     "data": {
      "image/png": "[encoded data removed]",
      "text/plain": [
       "<Figure size 432x288 with 1 Axes>"
      ]
     },
     "metadata": {
      "needs_background": "light"
     },
     "output_type": "display_data"
    }
   ],
   "source": [
    "# Variables a guardar para reward plot\n",
    "d = stepsnorm_data['SEC_ltm500']\n",
    "\n",
    "plt.plot(d['mavecr'], label=\"Reactive\", color='blue')\n",
    "plt.fill_between(np.linspace(0, d['length']-1, d['length']), d['min_val'], d['max_val'], color='blue', alpha=.2)"
   ]
  },
  {
   "cell_type": "markdown",
   "metadata": {},
   "source": [
    "# Steps accumulated - single"
   ]
  },
  {
   "cell_type": "code",
   "execution_count": 62,
   "metadata": {},
   "outputs": [],
   "source": [
    "# Variables a computar para reward plot\n",
    "window_width = 20\n",
    "data_steps_acc = data['SEC_ltm500']['acc_steps_ts']\n",
    "data_steps_acc = np.asarray(data_steps_acc, dtype=np.float32)\n",
    "\n",
    "mean = np.mean(data_steps_acc, axis=0)\n",
    "yerr = np.std(data_steps_acc, axis=0) / math.sqrt(len(data_steps_acc))\n",
    "\n",
    "data_steps_acc_cumsum = np.cumsum(np.insert(mean, 0, 0)) \n",
    "data_steps_acc_mavecr = (data_steps_acc_cumsum[window_width:] - data_steps_acc_cumsum[:-window_width]) / window_width\n",
    "\n",
    "data_steps_acc_cumsum_std = np.cumsum(np.insert(yerr, 0, 0)) \n",
    "data_steps_acc_mavecr_std = (data_steps_acc_cumsum_std[window_width:] - data_steps_acc_cumsum_std[:-window_width]) / window_width\n",
    "\n",
    "min_val = data_steps_acc_mavecr - data_steps_acc_mavecr_std\n",
    "max_val = data_steps_acc_mavecr + data_steps_acc_mavecr_std\n",
    "length = data_steps_acc_mavecr_std.shape[0]\n"
   ]
  },
  {
   "cell_type": "code",
   "execution_count": 63,
   "metadata": {},
   "outputs": [
    {
     "data": {
      "text/plain": [
       "<matplotlib.collections.PolyCollection at 0x2c6ca8ea448>"
      ]
     },
     "execution_count": 63,
     "metadata": {},
     "output_type": "execute_result"
    },
    {
     "data": {
      "image/png": "[encoded data removed]",
      "text/plain": [
       "<Figure size 432x288 with 1 Axes>"
      ]
     },
     "metadata": {
      "needs_background": "light"
     },
     "output_type": "display_data"
    }
   ],
   "source": [
    "# Variables a guardar para reward plot\n",
    "plt.plot(data_steps_acc_mavecr, label=\"Reactive\", color='blue')\n",
    "plt.fill_between(np.linspace(0, length-1, length), min_val, max_val, color='blue', alpha=.2)"
   ]
  },
  {
   "cell_type": "markdown",
   "metadata": {},
   "source": [
    "# Steps accumulated - all"
   ]
  },
  {
   "cell_type": "code",
   "execution_count": 64,
   "metadata": {},
   "outputs": [
    {
     "name": "stdout",
     "output_type": "stream",
     "text": [
      "data_accsteps_sum  5090842600.0\n",
      "data_accsteps_sum  3456101400.0\n",
      "data_accsteps_sum  13853341000.0\n",
      "data_accsteps_sum  14203955000.0\n",
      "data_accsteps_sum  8212174000.0\n",
      "data_accsteps_sum  8355335700.0\n",
      "data_accsteps_sum  5959227000.0\n",
      "data_accsteps_sum  5816995000.0\n"
     ]
    }
   ],
   "source": [
    "stepsacc_data = {}\n",
    "window_width = 20\n",
    "\n",
    "for model in models:\n",
    "    for ltm in ltms:\n",
    "\n",
    "        data_accsteps = data[model+'_ltm'+ltm]['acc_steps_ts']\n",
    "        data_accsteps = np.asarray(data_accsteps, dtype=np.float32)\n",
    "        print(\"data_accsteps_sum \", np.sum(data_accsteps))\n",
    "\n",
    "        if np.sum(data_accsteps) > 0:\n",
    "            if len(data_accsteps[0]) > 5000: \n",
    "                data_half = np.hsplit(data_accsteps, 2)\n",
    "                data_accsteps = data_half[0]\n",
    "\n",
    "            mean = np.mean(data_accsteps, axis=0)\n",
    "            yerr = np.std(data_accsteps, axis=0) / math.sqrt(len(data_accsteps))\n",
    "\n",
    "            data_accsteps_cumsum = np.cumsum(np.insert(mean, 0, 0)) \n",
    "            data_accsteps_mavecr = (data_accsteps_cumsum[window_width:] - data_accsteps_cumsum[:-window_width]) / window_width\n",
    "\n",
    "            data_accsteps_cumsum_std = np.cumsum(np.insert(yerr, 0, 0)) \n",
    "            data_accsteps_mavecr_std = (data_accsteps_cumsum_std[window_width:] - data_accsteps_cumsum_std[:-window_width]) / window_width\n",
    "\n",
    "            totalsteps = []\n",
    "            for d in data_accsteps: \n",
    "                #print(d[-1])\n",
    "                totalsteps.append(d[-1])\n",
    "\n",
    "            steps = {}\n",
    "            steps['total'] = totalsteps\n",
    "            steps['mavecr'] = data_accsteps_mavecr\n",
    "            steps['mavecr_std'] = data_accsteps_mavecr_std\n",
    "            steps['min_val'] = data_accsteps_mavecr - data_accsteps_mavecr_std\n",
    "            steps['max_val'] = data_accsteps_mavecr + data_accsteps_mavecr_std\n",
    "            steps['length'] = data_accsteps_mavecr_std.shape[0]\n",
    "\n",
    "            stepsacc_data[model+'_ltm'+ltm] = steps\n",
    "\n",
    "save_plot_data(stepsacc_data, 'stepsacc', file_path)"
   ]
  },
  {
   "cell_type": "code",
   "execution_count": 65,
   "metadata": {},
   "outputs": [
    {
     "data": {
      "text/plain": [
       "<matplotlib.collections.PolyCollection at 0x2c6ed8d00c8>"
      ]
     },
     "execution_count": 65,
     "metadata": {},
     "output_type": "execute_result"
    },
    {
     "data": {
      "image/png": "[encoded data removed]",
      "text/plain": [
       "<Figure size 432x288 with 1 Axes>"
      ]
     },
     "metadata": {
      "needs_background": "light"
     },
     "output_type": "display_data"
    }
   ],
   "source": [
    "# Variables a guardar para reward plot\n",
    "d = stepsacc_data['SEC_ltm500']\n",
    "plt.plot(d['mavecr'], label=\"Reactive\", color='blue')\n",
    "plt.fill_between(np.linspace(0, d['length']-1, d['length']), d['min_val'], d['max_val'], color='blue', alpha=.2)"
   ]
  },
  {
   "cell_type": "markdown",
   "metadata": {},
   "source": [
    "# Entropy - single"
   ]
  },
  {
   "cell_type": "code",
   "execution_count": 66,
   "metadata": {},
   "outputs": [],
   "source": [
    "# Variables a computar para reward plot\n",
    "window_width = 20\n",
    "data_truentropy = data['SEC_ltm500']['mean_entropy']\n",
    "data_truentropy = np.asarray(data_truentropy, dtype=np.float32)\n",
    "\n",
    "mean = np.mean(data_truentropy, axis=0)\n",
    "yerr = np.std(data_truentropy, axis=0) / math.sqrt(len(data_truentropy))\n",
    "\n",
    "data_truentropy_cumsum = np.cumsum(np.insert(mean, 0, 0)) \n",
    "data_truentropy_mavecr = (data_truentropy_cumsum[window_width:] - data_truentropy_cumsum[:-window_width]) / window_width\n",
    "\n",
    "data_truentropy_cumsum_std = np.cumsum(np.insert(yerr, 0, 0)) \n",
    "data_truentropy_mavecr_std = (data_truentropy_cumsum_std[window_width:] - data_truentropy_cumsum_std[:-window_width]) / window_width\n",
    "\n",
    "min_val = data_truentropy_mavecr - data_truentropy_mavecr_std\n",
    "max_val = data_truentropy_mavecr + data_truentropy_mavecr_std\n",
    "length = data_truentropy_mavecr_std.shape[0]"
   ]
  },
  {
   "cell_type": "code",
   "execution_count": 67,
   "metadata": {},
   "outputs": [
    {
     "data": {
      "text/plain": [
       "<matplotlib.collections.PolyCollection at 0x2c70ba0e6c8>"
      ]
     },
     "execution_count": 67,
     "metadata": {},
     "output_type": "execute_result"
    },
    {
     "data": {
      "image/png": "[encoded data removed]",
      "text/plain": [
       "<Figure size 432x288 with 1 Axes>"
      ]
     },
     "metadata": {
      "needs_background": "light"
     },
     "output_type": "display_data"
    }
   ],
   "source": [
    "# Variables a guardar para reward plot\n",
    "plt.plot(data_truentropy_mavecr, label=\"Reactive\", color='blue')\n",
    "plt.fill_between(np.linspace(0, length-1, length), min_val, max_val, color='blue', alpha=.2)"
   ]
  },
  {
   "cell_type": "markdown",
   "metadata": {},
   "source": [
    "# Entropy - all"
   ]
  },
  {
   "cell_type": "code",
   "execution_count": 26,
   "metadata": {},
   "outputs": [],
   "source": [
    "models = ['MFEC1388', 'MFEC2777', 'MFEC5555']"
   ]
  },
  {
   "cell_type": "code",
   "execution_count": 29,
   "metadata": {},
   "outputs": [
    {
     "name": "stdout",
     "output_type": "stream",
     "text": [
      "data_truentropy_sum  -49188064.0\n",
      "data_truentropy_sum  -41208910.0\n",
      "data_truentropy_sum  -41825480.0\n"
     ]
    }
   ],
   "source": [
    "entropy_data = {}\n",
    "window_width = 20\n",
    "\n",
    "for model in models:\n",
    "\n",
    "    #entropy_data[\"cl\"+str(clr)+\"_stm\"+str(stm)+\"_ep1000_dac\"] = get_condition_dac(\"C\"+str(clr), \"STM\"+str(stm), \"EP1000\", \"dac\")\n",
    "\n",
    "    #data_truentropy = cl4_stm50_ep1000_dac['abs_tru_entropy']\n",
    "    data_truentropy = data[model]['mean_entropy']\n",
    "    data_truentropy = np.asarray(data_truentropy, dtype=np.float32)\n",
    "    print(\"data_truentropy_sum \", np.sum(data_truentropy))\n",
    "    #if np.sum(data_truentropy) > 0:                       \n",
    "    if len(data_truentropy[0]) > 5000: \n",
    "        data_half = np.hsplit(data_truentropy, 2)\n",
    "        data_truentropy = data_half[0]\n",
    "\n",
    "    mean = np.mean(data_truentropy, axis=0)\n",
    "    yerr = np.std(data_truentropy, axis=0) / math.sqrt(len(data_truentropy))\n",
    "\n",
    "    data_truentropy_cumsum = np.cumsum(np.insert(mean, 0, 0)) \n",
    "    data_truentropy_mavecr = (data_truentropy_cumsum[window_width:] - data_truentropy_cumsum[:-window_width]) / window_width\n",
    "\n",
    "    data_truentropy_cumsum_std = np.cumsum(np.insert(yerr, 0, 0)) \n",
    "    data_truentropy_mavecr_std = (data_truentropy_cumsum_std[window_width:] - data_truentropy_cumsum_std[:-window_width]) / window_width\n",
    "\n",
    "    entropy = {}\n",
    "    entropy['mavecr'] = data_truentropy_mavecr\n",
    "    entropy['mavecr_std'] = data_truentropy_mavecr_std\n",
    "    entropy['min_val'] = data_truentropy_mavecr - data_truentropy_mavecr_std\n",
    "    entropy['max_val'] = data_truentropy_mavecr + data_truentropy_mavecr_std\n",
    "    entropy['length'] = data_truentropy_mavecr_std.shape[0]\n",
    "\n",
    "    entropy_data[model] = entropy\n",
    "\n",
    "save_plot_data(entropy_data, 'entropy', file_path)"
   ]
  },
  {
   "cell_type": "code",
   "execution_count": 30,
   "metadata": {},
   "outputs": [
    {
     "data": {
      "text/plain": [
       "{'MFEC1388': {'mavecr': array([-790.8037, -817.4577, -817.7118, ..., -821.2625, -821.2375,\n",
       "         -821.2375], dtype=float32),\n",
       "  'mavecr_std': array([0.58067834, 0.6335839 , 0.6069598 , ..., 3.4149413 , 3.4122558 ,\n",
       "         3.4083984 ], dtype=float32),\n",
       "  'min_val': array([-791.3844, -818.0913, -818.3187, ..., -824.6774, -824.6497,\n",
       "         -824.6459], dtype=float32),\n",
       "  'max_val': array([-790.223  , -816.8241 , -817.10486, ..., -817.8476 , -817.82526,\n",
       "         -817.8291 ], dtype=float32),\n",
       "  'length': 4981},\n",
       " 'MFEC2777': {'mavecr': array([-792.3947 , -819.21594, -819.5952 , ..., -827.275  , -827.2    ,\n",
       "         -827.125  ], dtype=float32),\n",
       "  'mavecr_std': array([1.2109061, 1.3252383, 1.3393224, ..., 5.432031 , 5.4249024,\n",
       "         5.4330077], dtype=float32),\n",
       "  'min_val': array([-793.6056 , -820.5412 , -820.9345 , ..., -832.70703, -832.62494,\n",
       "         -832.558  ], dtype=float32),\n",
       "  'max_val': array([-791.18384, -817.8907 , -818.2559 , ..., -821.843  , -821.7751 ,\n",
       "         -821.692  ], dtype=float32),\n",
       "  'length': 4981},\n",
       " 'MFEC5555': {'mavecr': array([-790.2855, -816.9624, -817.3562, ..., -849.625 , -849.425 ,\n",
       "         -849.425 ], dtype=float32),\n",
       "  'mavecr_std': array([ 0.3839777 ,  0.43695092,  0.467424  , ..., 12.322657  ,\n",
       "         12.253906  , 12.255664  ], dtype=float32),\n",
       "  'min_val': array([-790.6695 , -817.39935, -817.8236 , ..., -861.94763, -861.6789 ,\n",
       "         -861.68066], dtype=float32),\n",
       "  'max_val': array([-789.90155, -816.52545, -816.8888 , ..., -837.30237, -837.1711 ,\n",
       "         -837.1693 ], dtype=float32),\n",
       "  'length': 4981}}"
      ]
     },
     "execution_count": 30,
     "metadata": {},
     "output_type": "execute_result"
    }
   ],
   "source": [
    "entropy_data"
   ]
  },
  {
   "cell_type": "code",
   "execution_count": null,
   "metadata": {},
   "outputs": [],
   "source": [
    "entropy_data = {}\n",
    "window_width = 20\n",
    "\n",
    "for model in models:\n",
    "    #entropy_data[\"cl\"+str(clr)+\"_stm\"+str(stm)+\"_ep1000_dac\"] = get_condition_dac(\"C\"+str(clr), \"STM\"+str(stm), \"EP1000\", \"dac\")\n",
    "\n",
    "    #data_truentropy = cl4_stm50_ep1000_dac['abs_tru_entropy']\n",
    "    data_truentropy = data[model]['mean_entropy']\n",
    "    data_truentropy = np.asarray(data_truentropy, dtype=np.float32)\n",
    "    print(\"data_truentropy_sum \", np.sum(data_truentropy))\n",
    "    if np.sum(data_truentropy) > 0:                       \n",
    "        if len(data_truentropy[0]) > 5000: \n",
    "            data_half = np.hsplit(data_truentropy, 2)\n",
    "            data_truentropy = data_half[0]\n",
    "\n",
    "        mean = np.mean(data_truentropy, axis=0)\n",
    "        yerr = np.std(data_truentropy, axis=0) / math.sqrt(len(data_truentropy))\n",
    "\n",
    "        data_truentropy_cumsum = np.cumsum(np.insert(mean, 0, 0)) \n",
    "        data_truentropy_mavecr = (data_truentropy_cumsum[window_width:] - data_truentropy_cumsum[:-window_width]) / window_width\n",
    "\n",
    "        data_truentropy_cumsum_std = np.cumsum(np.insert(yerr, 0, 0)) \n",
    "        data_truentropy_mavecr_std = (data_truentropy_cumsum_std[window_width:] - data_truentropy_cumsum_std[:-window_width]) / window_width\n",
    "\n",
    "        entropy = {}\n",
    "        entropy['mavecr'] = data_truentropy_mavecr\n",
    "        entropy['mavecr_std'] = data_truentropy_mavecr_std\n",
    "        entropy['min_val'] = data_truentropy_mavecr - data_truentropy_mavecr_std\n",
    "        entropy['max_val'] = data_truentropy_mavecr + data_truentropy_mavecr_std\n",
    "        entropy['length'] = data_truentropy_mavecr_std.shape[0]\n",
    "\n",
    "        entropy_data[model] = entropy\n",
    "\n",
    "save_plot_data(entropy_data, 'entropy', file_path)"
   ]
  },
  {
   "cell_type": "code",
   "execution_count": null,
   "metadata": {},
   "outputs": [],
   "source": [
    "entropy_data = {}\n",
    "window_width = 20\n",
    "\n",
    "for model in models:\n",
    "    for ltm in ltms:\n",
    "        #entropy_data[\"cl\"+str(clr)+\"_stm\"+str(stm)+\"_ep1000_dac\"] = get_condition_dac(\"C\"+str(clr), \"STM\"+str(stm), \"EP1000\", \"dac\")\n",
    "\n",
    "        #data_truentropy = cl4_stm50_ep1000_dac['abs_tru_entropy']\n",
    "        data_truentropy = data[model+'_ltm'+ltm]['mean_entropy']\n",
    "        data_truentropy = np.asarray(data_truentropy, dtype=np.float32)\n",
    "        print(\"data_truentropy_sum \", np.sum(data_truentropy))\n",
    "        if np.sum(data_truentropy) > 0:                       \n",
    "            if len(data_truentropy[0]) > 5000: \n",
    "                data_half = np.hsplit(data_truentropy, 2)\n",
    "                data_truentropy = data_half[0]\n",
    "\n",
    "            mean = np.mean(data_truentropy, axis=0)\n",
    "            yerr = np.std(data_truentropy, axis=0) / math.sqrt(len(data_truentropy))\n",
    "\n",
    "            data_truentropy_cumsum = np.cumsum(np.insert(mean, 0, 0)) \n",
    "            data_truentropy_mavecr = (data_truentropy_cumsum[window_width:] - data_truentropy_cumsum[:-window_width]) / window_width\n",
    "\n",
    "            data_truentropy_cumsum_std = np.cumsum(np.insert(yerr, 0, 0)) \n",
    "            data_truentropy_mavecr_std = (data_truentropy_cumsum_std[window_width:] - data_truentropy_cumsum_std[:-window_width]) / window_width\n",
    "\n",
    "            entropy = {}\n",
    "            entropy['mavecr'] = data_truentropy_mavecr\n",
    "            entropy['mavecr_std'] = data_truentropy_mavecr_std\n",
    "            entropy['min_val'] = data_truentropy_mavecr - data_truentropy_mavecr_std\n",
    "            entropy['max_val'] = data_truentropy_mavecr + data_truentropy_mavecr_std\n",
    "            entropy['length'] = data_truentropy_mavecr_std.shape[0]\n",
    "\n",
    "            entropy_data[model+'_ltm'+ltm] = entropy\n",
    "\n",
    "save_plot_data(entropy_data, 'entropy', file_path)"
   ]
  },
  {
   "cell_type": "code",
   "execution_count": 69,
   "metadata": {},
   "outputs": [
    {
     "data": {
      "text/plain": [
       "<matplotlib.collections.PolyCollection at 0x2c6e32fdf08>"
      ]
     },
     "execution_count": 69,
     "metadata": {},
     "output_type": "execute_result"
    },
    {
     "data": {
      "image/png": "[encoded data removed]",
      "text/plain": [
       "<Figure size 432x288 with 1 Axes>"
      ]
     },
     "metadata": {
      "needs_background": "light"
     },
     "output_type": "display_data"
    }
   ],
   "source": [
    "# Variables a guardar para entropy plot\n",
    "d = entropy_data['SEC_ltm500']\n",
    "\n",
    "plt.plot(d['mavecr'], label=\"Reactive\", color='blue')\n",
    "plt.fill_between(np.linspace(0, d['length']-1, d['length']), d['min_val'], d['max_val'], color='blue', alpha=.2)"
   ]
  },
  {
   "cell_type": "markdown",
   "metadata": {},
   "source": [
    "# Layer activity - single"
   ]
  },
  {
   "cell_type": "code",
   "execution_count": 70,
   "metadata": {},
   "outputs": [],
   "source": [
    "# Variables a computar para reward plot\n",
    "window_width = 20\n",
    "data_contextact = data['SEC_ltm500']['contextual_relact']\n",
    "data_contextact = np.asarray(data_contextact, dtype=np.float32)\n",
    "\n",
    "mean = np.mean(data_contextact, axis=0)\n",
    "yerr = np.std(data_contextact, axis=0) / math.sqrt(len(data_contextact))\n",
    "\n",
    "data_contextact_cumsum = np.cumsum(np.insert(mean, 0, 0)) \n",
    "data_contextact_mavecr = (data_contextact_cumsum[window_width:] - data_contextact_cumsum[:-window_width]) / window_width\n",
    "\n",
    "data_contextact_cumsum_std = np.cumsum(np.insert(yerr, 0, 0)) \n",
    "data_contextact_mavecr_std = (data_contextact_cumsum_std[window_width:] - data_contextact_cumsum_std[:-window_width]) / window_width\n",
    "\n",
    "min_val = data_contextact_mavecr - data_contextact_mavecr_std\n",
    "max_val = data_contextact_mavecr + data_contextact_mavecr_std\n",
    "length = data_contextact_mavecr_std.shape[0]"
   ]
  },
  {
   "cell_type": "code",
   "execution_count": 71,
   "metadata": {},
   "outputs": [
    {
     "data": {
      "text/plain": [
       "<matplotlib.collections.PolyCollection at 0x2c6bd802b08>"
      ]
     },
     "execution_count": 71,
     "metadata": {},
     "output_type": "execute_result"
    },
    {
     "data": {
      "image/png": "[encoded data removed]",
      "text/plain": [
       "<Figure size 432x288 with 1 Axes>"
      ]
     },
     "metadata": {
      "needs_background": "light"
     },
     "output_type": "display_data"
    }
   ],
   "source": [
    "# Variables a guardar para reward plot\n",
    "plt.plot(data_contextact_mavecr, label=\"Reactive\", color='blue')\n",
    "\n",
    "plt.fill_between(np.linspace(0, length-1, length), min_val, max_val, color='blue', alpha=.2)"
   ]
  },
  {
   "cell_type": "markdown",
   "metadata": {},
   "source": [
    "# Layer activity - all"
   ]
  },
  {
   "cell_type": "code",
   "execution_count": 72,
   "metadata": {},
   "outputs": [
    {
     "name": "stdout",
     "output_type": "stream",
     "text": [
      "data_contextact_sum  13388.72\n",
      "data_contextact_sum  13914.703\n",
      "data_contextact_sum  27708.217\n",
      "data_contextact_sum  27794.3\n",
      "data_contextact_sum  13286.877\n",
      "data_contextact_sum  13266.439\n",
      "data_contextact_sum  13325.658\n",
      "data_contextact_sum  13250.661\n"
     ]
    }
   ],
   "source": [
    "contextact_data = {}\n",
    "window_width = 20\n",
    "\n",
    "\n",
    "for model in models:\n",
    "    for ltm in ltms:\n",
    "        data_contextact = data[model+'_ltm'+ltm]['contextual_relact']\n",
    "        data_contextact = np.asarray(data_contextact, dtype=np.float32)\n",
    "        print(\"data_contextact_sum \", np.sum(data_contextact))\n",
    "        if np.sum(data_contextact) > 0:                       \n",
    "            if len(data_contextact[0]) > 5000: \n",
    "                data_half = np.hsplit(data_contextact, 2)\n",
    "                data_contextact = data_half[0]\n",
    "\n",
    "            mean = np.mean(data_contextact, axis=0)\n",
    "            yerr = np.std(data_contextact, axis=0) / math.sqrt(len(data_contextact))\n",
    "\n",
    "            data_contextact_cumsum = np.cumsum(np.insert(mean, 0, 0)) \n",
    "            data_contextact_mavecr = (data_contextact_cumsum[window_width:] - data_contextact_cumsum[:-window_width]) / window_width\n",
    "\n",
    "            data_contextact_cumsum_std = np.cumsum(np.insert(yerr, 0, 0)) \n",
    "            data_contextact_mavecr_std = (data_contextact_cumsum_std[window_width:] - data_contextact_cumsum_std[:-window_width]) / window_width\n",
    "\n",
    "            contextact = {}\n",
    "            contextact['mavecr'] = data_contextact_mavecr\n",
    "            contextact['mavecr_std'] = data_contextact_mavecr_std\n",
    "            contextact['min_val'] = data_contextact_mavecr - data_contextact_mavecr_std\n",
    "            contextact['max_val'] = data_contextact_mavecr + data_contextact_mavecr_std\n",
    "            contextact['length'] = data_contextact_mavecr_std.shape[0]\n",
    "\n",
    "            contextact_data[model+'_ltm'+ltm] = contextact\n",
    "\n",
    "save_plot_data(contextact_data, 'contextact', file_path)"
   ]
  },
  {
   "cell_type": "code",
   "execution_count": 73,
   "metadata": {},
   "outputs": [
    {
     "data": {
      "text/plain": [
       "<matplotlib.collections.PolyCollection at 0x2c70ac37308>"
      ]
     },
     "execution_count": 73,
     "metadata": {},
     "output_type": "execute_result"
    },
    {
     "data": {
      "image/png": "[encoded data removed]",
      "text/plain": [
       "<Figure size 432x288 with 1 Axes>"
      ]
     },
     "metadata": {
      "needs_background": "light"
     },
     "output_type": "display_data"
    }
   ],
   "source": [
    "# Variables a guardar para entropy plot\n",
    "d = contextact_data['SEC_ltm500']\n",
    "\n",
    "plt.plot(d['mavecr'], label=\"Reactive\", color='blue')\n",
    "plt.fill_between(np.linspace(0, d['length']-1, d['length']), d['min_val'], d['max_val'], color='blue', alpha=.2)"
   ]
  }
 ],
 "metadata": {
  "kernelspec": {
   "display_name": "Python 3 (ipykernel)",
   "language": "python",
   "name": "python3"
  },
  "language_info": {
   "codemirror_mode": {
    "name": "ipython",
    "version": 3
   },
   "file_extension": ".py",
   "mimetype": "text/x-python",
   "name": "python",
   "nbconvert_exporter": "python",
   "pygments_lexer": "ipython3",
   "version": "3.9.7"
  }
 },
 "nbformat": 4,
 "nbformat_minor": 2
}
